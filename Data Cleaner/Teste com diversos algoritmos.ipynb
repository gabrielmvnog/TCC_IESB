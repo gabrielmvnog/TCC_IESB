{
 "cells": [
  {
   "cell_type": "markdown",
   "metadata": {},
   "source": [
    "### Importações necessárias"
   ]
  },
  {
   "cell_type": "code",
   "execution_count": 1,
   "metadata": {},
   "outputs": [],
   "source": [
    "import unidecode\n",
    "import re\n",
    "import string\n",
    "import pandas as pd\n",
    "import nltk\n",
    "import numpy as np\n",
    "import matplotlib.pyplot as plt\n",
    "import seaborn as sn\n",
    "import pickle\n",
    "\n",
    "from sklearn.model_selection import StratifiedKFold\n",
    "from sklearn import svm\n",
    "from sklearn.feature_extraction.text import CountVectorizer\n",
    "from sklearn.model_selection import train_test_split\n",
    "from sklearn.model_selection import GridSearchCV\n",
    "from sklearn.metrics import accuracy_score,recall_score,precision_score,f1_score, confusion_matrix\n",
    "\n",
    "from gensim.models import Word2Vec\n",
    "\n",
    "%matplotlib inline"
   ]
  },
  {
   "cell_type": "markdown",
   "metadata": {},
   "source": [
    "#### Análise de dataset"
   ]
  },
  {
   "cell_type": "code",
   "execution_count": 2,
   "metadata": {},
   "outputs": [
    {
     "data": {
      "text/html": [
       "<div>\n",
       "<style scoped>\n",
       "    .dataframe tbody tr th:only-of-type {\n",
       "        vertical-align: middle;\n",
       "    }\n",
       "\n",
       "    .dataframe tbody tr th {\n",
       "        vertical-align: top;\n",
       "    }\n",
       "\n",
       "    .dataframe thead th {\n",
       "        text-align: right;\n",
       "    }\n",
       "</style>\n",
       "<table border=\"1\" class=\"dataframe\">\n",
       "  <thead>\n",
       "    <tr style=\"text-align: right;\">\n",
       "      <th></th>\n",
       "      <th>texts</th>\n",
       "      <th>labels</th>\n",
       "    </tr>\n",
       "  </thead>\n",
       "  <tbody>\n",
       "    <tr>\n",
       "      <th>0</th>\n",
       "      <td>Como cometer suicídio sem dx a mãe triste</td>\n",
       "      <td>0</td>\n",
       "    </tr>\n",
       "    <tr>\n",
       "      <th>1</th>\n",
       "      <td>Estou nova demais p cometer esse suicídio</td>\n",
       "      <td>0</td>\n",
       "    </tr>\n",
       "    <tr>\n",
       "      <th>2</th>\n",
       "      <td>\"Nunca dirijo meu carro por cima de uma ponte ...</td>\n",
       "      <td>0</td>\n",
       "    </tr>\n",
       "    <tr>\n",
       "      <th>3</th>\n",
       "      <td>Nem imagino como seria minha vida sem esse gat...</td>\n",
       "      <td>0</td>\n",
       "    </tr>\n",
       "    <tr>\n",
       "      <th>4</th>\n",
       "      <td>A vida tá me testando para ver qual  vou comet...</td>\n",
       "      <td>0</td>\n",
       "    </tr>\n",
       "  </tbody>\n",
       "</table>\n",
       "</div>"
      ],
      "text/plain": [
       "                                               texts  labels\n",
       "0          Como cometer suicídio sem dx a mãe triste       0\n",
       "1          Estou nova demais p cometer esse suicídio       0\n",
       "2  \"Nunca dirijo meu carro por cima de uma ponte ...       0\n",
       "3  Nem imagino como seria minha vida sem esse gat...       0\n",
       "4  A vida tá me testando para ver qual  vou comet...       0"
      ]
     },
     "execution_count": 2,
     "metadata": {},
     "output_type": "execute_result"
    }
   ],
   "source": [
    "df = pd.read_csv(\"Dataset_final.csv\")\n",
    "\n",
    "df.head()"
   ]
  },
  {
   "cell_type": "code",
   "execution_count": 3,
   "metadata": {},
   "outputs": [
    {
     "data": {
      "text/html": [
       "<div>\n",
       "<style scoped>\n",
       "    .dataframe tbody tr th:only-of-type {\n",
       "        vertical-align: middle;\n",
       "    }\n",
       "\n",
       "    .dataframe tbody tr th {\n",
       "        vertical-align: top;\n",
       "    }\n",
       "\n",
       "    .dataframe thead th {\n",
       "        text-align: right;\n",
       "    }\n",
       "</style>\n",
       "<table border=\"1\" class=\"dataframe\">\n",
       "  <thead>\n",
       "    <tr style=\"text-align: right;\">\n",
       "      <th></th>\n",
       "      <th>labels</th>\n",
       "    </tr>\n",
       "  </thead>\n",
       "  <tbody>\n",
       "    <tr>\n",
       "      <th>count</th>\n",
       "      <td>1063.000000</td>\n",
       "    </tr>\n",
       "    <tr>\n",
       "      <th>mean</th>\n",
       "      <td>0.503293</td>\n",
       "    </tr>\n",
       "    <tr>\n",
       "      <th>std</th>\n",
       "      <td>0.500225</td>\n",
       "    </tr>\n",
       "    <tr>\n",
       "      <th>min</th>\n",
       "      <td>0.000000</td>\n",
       "    </tr>\n",
       "    <tr>\n",
       "      <th>25%</th>\n",
       "      <td>0.000000</td>\n",
       "    </tr>\n",
       "    <tr>\n",
       "      <th>50%</th>\n",
       "      <td>1.000000</td>\n",
       "    </tr>\n",
       "    <tr>\n",
       "      <th>75%</th>\n",
       "      <td>1.000000</td>\n",
       "    </tr>\n",
       "    <tr>\n",
       "      <th>max</th>\n",
       "      <td>1.000000</td>\n",
       "    </tr>\n",
       "  </tbody>\n",
       "</table>\n",
       "</div>"
      ],
      "text/plain": [
       "            labels\n",
       "count  1063.000000\n",
       "mean      0.503293\n",
       "std       0.500225\n",
       "min       0.000000\n",
       "25%       0.000000\n",
       "50%       1.000000\n",
       "75%       1.000000\n",
       "max       1.000000"
      ]
     },
     "execution_count": 3,
     "metadata": {},
     "output_type": "execute_result"
    }
   ],
   "source": [
    "df.describe()"
   ]
  },
  {
   "cell_type": "code",
   "execution_count": 4,
   "metadata": {},
   "outputs": [
    {
     "name": "stdout",
     "output_type": "stream",
     "text": [
      "<class 'pandas.core.frame.DataFrame'>\n",
      "RangeIndex: 1063 entries, 0 to 1062\n",
      "Data columns (total 2 columns):\n",
      "texts     1063 non-null object\n",
      "labels    1063 non-null int64\n",
      "dtypes: int64(1), object(1)\n",
      "memory usage: 16.7+ KB\n"
     ]
    }
   ],
   "source": [
    "df.info()"
   ]
  },
  {
   "cell_type": "markdown",
   "metadata": {},
   "source": [
    "#### Limpeza de dados"
   ]
  },
  {
   "cell_type": "code",
   "execution_count": 5,
   "metadata": {},
   "outputs": [],
   "source": [
    "stopwords = nltk.corpus.stopwords.words('portuguese')\n",
    "stemmer = nltk.stem.RSLPStemmer()\n",
    "\n",
    "def clean_text(text):\n",
    "    \n",
    "    # Normalize to Lower\n",
    "    text = text.lower()\n",
    "    \n",
    "    # Remove Accent\n",
    "    text = unidecode.unidecode(text)\n",
    "    \n",
    "    # Split ponctuation\n",
    "    text = ' '.join(re.findall(r\"[\\w]+|[\" + string.punctuation + r\"]\",text))\n",
    "    \n",
    "    text = text.translate(str.maketrans('', '', string.punctuation))\n",
    "    \n",
    "    # Remove Stopwords\n",
    "#     text = ' '.join([word for word in text.split() if word not in stopwords])\n",
    "    \n",
    "    return text.strip()"
   ]
  },
  {
   "cell_type": "code",
   "execution_count": 6,
   "metadata": {},
   "outputs": [],
   "source": [
    "new_df = df\n",
    "\n",
    "new_df['texts'] = new_df['texts'].apply(clean_text)\n",
    "new_df['lenght'] = new_df['texts'].str.split().str.len()\n",
    "\n",
    "new_df = new_df.drop_duplicates()"
   ]
  },
  {
   "cell_type": "code",
   "execution_count": 7,
   "metadata": {},
   "outputs": [
    {
     "data": {
      "text/html": [
       "<div>\n",
       "<style scoped>\n",
       "    .dataframe tbody tr th:only-of-type {\n",
       "        vertical-align: middle;\n",
       "    }\n",
       "\n",
       "    .dataframe tbody tr th {\n",
       "        vertical-align: top;\n",
       "    }\n",
       "\n",
       "    .dataframe thead th {\n",
       "        text-align: right;\n",
       "    }\n",
       "</style>\n",
       "<table border=\"1\" class=\"dataframe\">\n",
       "  <thead>\n",
       "    <tr style=\"text-align: right;\">\n",
       "      <th></th>\n",
       "      <th>labels</th>\n",
       "      <th>lenght</th>\n",
       "    </tr>\n",
       "  </thead>\n",
       "  <tbody>\n",
       "    <tr>\n",
       "      <th>count</th>\n",
       "      <td>1031.000000</td>\n",
       "      <td>1031.000000</td>\n",
       "    </tr>\n",
       "    <tr>\n",
       "      <th>mean</th>\n",
       "      <td>0.516004</td>\n",
       "      <td>10.636275</td>\n",
       "    </tr>\n",
       "    <tr>\n",
       "      <th>std</th>\n",
       "      <td>0.499986</td>\n",
       "      <td>6.765174</td>\n",
       "    </tr>\n",
       "    <tr>\n",
       "      <th>min</th>\n",
       "      <td>0.000000</td>\n",
       "      <td>2.000000</td>\n",
       "    </tr>\n",
       "    <tr>\n",
       "      <th>25%</th>\n",
       "      <td>0.000000</td>\n",
       "      <td>6.000000</td>\n",
       "    </tr>\n",
       "    <tr>\n",
       "      <th>50%</th>\n",
       "      <td>1.000000</td>\n",
       "      <td>9.000000</td>\n",
       "    </tr>\n",
       "    <tr>\n",
       "      <th>75%</th>\n",
       "      <td>1.000000</td>\n",
       "      <td>13.000000</td>\n",
       "    </tr>\n",
       "    <tr>\n",
       "      <th>max</th>\n",
       "      <td>1.000000</td>\n",
       "      <td>57.000000</td>\n",
       "    </tr>\n",
       "  </tbody>\n",
       "</table>\n",
       "</div>"
      ],
      "text/plain": [
       "            labels       lenght\n",
       "count  1031.000000  1031.000000\n",
       "mean      0.516004    10.636275\n",
       "std       0.499986     6.765174\n",
       "min       0.000000     2.000000\n",
       "25%       0.000000     6.000000\n",
       "50%       1.000000     9.000000\n",
       "75%       1.000000    13.000000\n",
       "max       1.000000    57.000000"
      ]
     },
     "execution_count": 7,
     "metadata": {},
     "output_type": "execute_result"
    }
   ],
   "source": [
    "new_df.describe()"
   ]
  },
  {
   "cell_type": "code",
   "execution_count": 8,
   "metadata": {},
   "outputs": [
    {
     "name": "stdout",
     "output_type": "stream",
     "text": [
      "<class 'pandas.core.frame.DataFrame'>\n",
      "Int64Index: 1031 entries, 0 to 1062\n",
      "Data columns (total 3 columns):\n",
      "texts     1031 non-null object\n",
      "labels    1031 non-null int64\n",
      "lenght    1031 non-null int64\n",
      "dtypes: int64(2), object(1)\n",
      "memory usage: 32.2+ KB\n"
     ]
    }
   ],
   "source": [
    "new_df.info()"
   ]
  },
  {
   "cell_type": "code",
   "execution_count": 9,
   "metadata": {},
   "outputs": [],
   "source": [
    "texts = new_df['texts']\n",
    "labels = new_df['labels']"
   ]
  },
  {
   "cell_type": "code",
   "execution_count": 10,
   "metadata": {},
   "outputs": [],
   "source": [
    "X_train, X_test, Y_train, Y_test = train_test_split(texts, labels, test_size=0.33, random_state=42)"
   ]
  },
  {
   "cell_type": "markdown",
   "metadata": {},
   "source": [
    "#### Treinamento"
   ]
  },
  {
   "cell_type": "code",
   "execution_count": 11,
   "metadata": {},
   "outputs": [
    {
     "data": {
      "text/plain": [
       "(214969, 328980)"
      ]
     },
     "execution_count": 11,
     "metadata": {},
     "output_type": "execute_result"
    }
   ],
   "source": [
    "wv_texts = [text.split() for text in new_df['texts']]\n",
    "vocab = ' '.join(new_df['texts']).split()\n",
    "\n",
    "embedding_size = 50\n",
    "model = Word2Vec(size=embedding_size, window=3, min_count=1, workers=4, sg=0)\n",
    "model.build_vocab(wv_texts, progress_per=10000)\n",
    "\n",
    "\n",
    "model.train(wv_texts, total_examples=model.corpus_count, epochs=30)"
   ]
  },
  {
   "cell_type": "code",
   "execution_count": 12,
   "metadata": {},
   "outputs": [
    {
     "data": {
      "text/plain": [
       "[('so', 0.9950436949729919),\n",
       " ('ultimamente', 0.9947807192802429),\n",
       " ('deus', 0.9940767288208008),\n",
       " ('quero', 0.9937106966972351),\n",
       " ('talvez', 0.9929454326629639),\n",
       " ('sera', 0.9928181767463684),\n",
       " ('q', 0.9926945567131042),\n",
       " ('posso', 0.9921852946281433),\n",
       " ('parece', 0.9919633865356445),\n",
       " ('digo', 0.9917920827865601)]"
      ]
     },
     "execution_count": 12,
     "metadata": {},
     "output_type": "execute_result"
    }
   ],
   "source": [
    "model.wv.most_similar(positive=[\"morrer\"])"
   ]
  },
  {
   "cell_type": "code",
   "execution_count": 13,
   "metadata": {},
   "outputs": [
    {
     "data": {
      "text/plain": [
       "[('tudo', 0.9888405203819275),\n",
       " ('de', 0.981999933719635),\n",
       " ('dessa', 0.9801138043403625),\n",
       " ('amorosa', 0.9798678755760193),\n",
       " ('juro', 0.9787732362747192),\n",
       " ('serio', 0.9782395958900452),\n",
       " ('da', 0.976570725440979),\n",
       " ('especie', 0.9756945371627808),\n",
       " ('masculina', 0.9754977226257324),\n",
       " ('literalmente', 0.9753382802009583)]"
      ]
     },
     "execution_count": 13,
     "metadata": {},
     "output_type": "execute_result"
    }
   ],
   "source": [
    "model.wv.most_similar(positive=[\"desisto\"])"
   ]
  },
  {
   "cell_type": "code",
   "execution_count": 14,
   "metadata": {},
   "outputs": [
    {
     "data": {
      "text/plain": [
       "[('solteira', 0.9842166304588318),\n",
       " ('viver', 0.981647253036499),\n",
       " ('dormi', 0.9764679670333862),\n",
       " ('estudante', 0.975229799747467),\n",
       " ('serio', 0.9751708507537842),\n",
       " ('de', 0.9751306176185608),\n",
       " ('toxica', 0.9715016484260559),\n",
       " ('affs', 0.9709174036979675),\n",
       " ('dessa', 0.9707021713256836),\n",
       " ('escuro', 0.970225989818573)]"
      ]
     },
     "execution_count": 14,
     "metadata": {},
     "output_type": "execute_result"
    }
   ],
   "source": [
    "model.wv.most_similar(positive=[\"cansei\"])"
   ]
  },
  {
   "cell_type": "code",
   "execution_count": 15,
   "metadata": {},
   "outputs": [],
   "source": [
    "index2word = model.wv.index2word\n",
    "\n",
    "def avg_feat_vector(sentece):\n",
    "    words = sentece.split()\n",
    "    feat_vec = np.zeros((embedding_size, ), dtype=\"float\")\n",
    "    n_words = 0\n",
    "    \n",
    "    for word in words:\n",
    "        if word in index2word:\n",
    "            n_words += 1\n",
    "            feat_vec = np.add(feat_vec, model.wv.__getitem__(word))\n",
    "    if (n_words > 0):\n",
    "        feat_vec = np.divide(feat_vec, n_words)\n",
    "    \n",
    "    return feat_vec"
   ]
  },
  {
   "cell_type": "code",
   "execution_count": 16,
   "metadata": {},
   "outputs": [],
   "source": [
    "def gs_result(X_train, Y_train, X_test, Y_test):\n",
    "    parameters = {'C':[1,10,100,1000], \n",
    "                  'gamma':[1,0.1,0.001,0.0001],\n",
    "                 'kernel':['rbf', 'linear']}\n",
    "\n",
    "    svc = svm.SVC(kernel='rbf', probability=True)\n",
    "    \n",
    "    clf = GridSearchCV(svc, parameters, cv=10, iid=True)\n",
    "    clf = clf.fit(X_train, Y_train)\n",
    "    \n",
    "    y_pred = clf.predict(X_test)\n",
    "    \n",
    "    print(f\"Melhores parâmetros: {clf.best_params_}\")\n",
    "    print(f\"Melhor score: {clf.best_score_:.2f}%\")\n",
    "    print()\n",
    "    print(f'Acurácia : {accuracy_score(Y_test,y_pred):.2f}%')\n",
    "    print(f'Precisão : {precision_score(Y_test,y_pred):.2f}%')\n",
    "    print(f'Revocação : {recall_score(Y_test,y_pred):.2f}%')\n",
    "    print(f'F1 : {f1_score(Y_test,y_pred):.2f}%')\n",
    "    print()\n",
    "    \n",
    "    df_cm = pd.DataFrame(confusion_matrix(Y_test,y_pred), index = [i for i in [\"Depressão\", \"Outros\"]],\n",
    "                  columns = [i for i in [\"Depressão\", \"Outros\"]])\n",
    "    \n",
    "    fig, ax = plt.subplots(figsize=(4, 3))\n",
    "    cbar_kws = {'pad':0.08, 'aspect':50}\n",
    "    sn.heatmap(df_cm, cmap=\"YlGnBu\", fmt=\"d\", ax=ax, linewidths=.5, cbar_kws=cbar_kws)\n",
    "    \n",
    "    \n",
    "    return clf"
   ]
  },
  {
   "cell_type": "code",
   "execution_count": 17,
   "metadata": {},
   "outputs": [
    {
     "name": "stdout",
     "output_type": "stream",
     "text": [
      "=== SVM - TF-IDF com GridSearch ===\n",
      "\n",
      "Melhores parâmetros: {'C': 10, 'gamma': 0.1, 'kernel': 'rbf'}\n",
      "Melhor score: 0.82%\n",
      "\n",
      "Acurácia : 0.86%\n",
      "Precisão : 0.85%\n",
      "Revocação : 0.86%\n",
      "F1 : 0.86%\n",
      "\n"
     ]
    },
    {
     "data": {
      "image/png": "[encoded data removed]",
      "text/plain": [
       "<Figure size 288x216 with 2 Axes>"
      ]
     },
     "metadata": {
      "needs_background": "light"
     },
     "output_type": "display_data"
    }
   ],
   "source": [
    "vectorizer = CountVectorizer()\n",
    "\n",
    "print(\"=== SVM - TF-IDF com GridSearch ===\\n\")\n",
    "\n",
    "train_data_tfidf = vectorizer.fit_transform(X_train)\n",
    "test_data_tfidf = vectorizer.transform(X_test)\n",
    "\n",
    "clf_tfidf = gs_result(train_data_tfidf, Y_train, test_data_tfidf, Y_test)\n",
    "\n",
    "with open(\"svm_tfidf.pickle\", \"wb\") as f:\n",
    "    pickle.dump(clf_tfidf, f)\n",
    "\n",
    "with open(\"vectorizer.pickle\", \"wb\") as f:\n",
    "    pickle.dump(vectorizer, f)"
   ]
  },
  {
   "cell_type": "code",
   "execution_count": 18,
   "metadata": {
    "scrolled": false
   },
   "outputs": [
    {
     "name": "stdout",
     "output_type": "stream",
     "text": [
      "=== SVM - Word2Vec com GridSearch ===\n",
      "\n",
      "Melhores parâmetros: {'C': 1000, 'gamma': 1, 'kernel': 'linear'}\n",
      "Melhor score: 0.79%\n",
      "\n",
      "Acurácia : 0.80%\n",
      "Precisão : 0.76%\n",
      "Revocação : 0.88%\n",
      "F1 : 0.82%\n",
      "\n"
     ]
    },
    {
     "data": {
      "image/png": "[encoded data removed]",
      "text/plain": [
       "<Figure size 288x216 with 2 Axes>"
      ]
     },
     "metadata": {
      "needs_background": "light"
     },
     "output_type": "display_data"
    }
   ],
   "source": [
    "print(\"=== SVM - Word2Vec com GridSearch ===\\n\")\n",
    "\n",
    "train_data_w2v = list(X_train.apply(avg_feat_vector))\n",
    "test_data_w2v = list(X_test.apply(avg_feat_vector))\n",
    "\n",
    "clf_w2v  = gs_result(train_data_w2v, Y_train, test_data_w2v, Y_test)\n",
    "\n",
    "with open(\"svm_w2v.pickle\", \"wb\") as f:\n",
    "    pickle.dump(clf_w2v, f)\n",
    "\n",
    "with open(\"model_w2v.pickle\", \"wb\") as f:\n",
    "    pickle.dump(model, f)"
   ]
  },
  {
   "cell_type": "code",
   "execution_count": 47,
   "metadata": {},
   "outputs": [],
   "source": [
    "sentece = \"quero viver\"\n",
    "sentece = clean_text(sentece)\n",
    "\n",
    "prob_tfidf = clf_tfidf.predict_proba(vectorizer.transform([sentece]).todense())\n",
    "prob_w2v = clf_w2v.best_estimator_.predict_proba([list(avg_feat_vector(sentece))])"
   ]
  },
  {
   "cell_type": "code",
   "execution_count": 48,
   "metadata": {},
   "outputs": [
    {
     "name": "stdout",
     "output_type": "stream",
     "text": [
      "[[0.79744334 0.20255666]] [[9.99474177e-01 5.25822595e-04]]\n"
     ]
    }
   ],
   "source": [
    "print(prob_tfidf, prob_w2v)"
   ]
  },
  {
   "cell_type": "code",
   "execution_count": null,
   "metadata": {},
   "outputs": [],
   "source": []
  }
 ],
 "metadata": {
  "kernelspec": {
   "display_name": "nlp-3.6.7",
   "language": "python",
   "name": "nlp-3.6.7"
  },
  "language_info": {
   "codemirror_mode": {
    "name": "ipython",
    "version": 3
   },
   "file_extension": ".py",
   "mimetype": "text/x-python",
   "name": "python",
   "nbconvert_exporter": "python",
   "pygments_lexer": "ipython3",
   "version": "3.6.7"
  }
 },
 "nbformat": 4,
 "nbformat_minor": 2
}
